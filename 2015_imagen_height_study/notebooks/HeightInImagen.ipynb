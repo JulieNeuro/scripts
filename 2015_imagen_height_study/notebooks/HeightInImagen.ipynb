{
 "metadata": {
  "name": ""
 },
 "nbformat": 3,
 "nbformat_minor": 0,
 "worksheets": [
  {
   "cells": [
    {
     "cell_type": "heading",
     "level": 1,
     "metadata": {
      "slideshow": {
       "slide_type": "-"
      }
     },
     "source": [
      "Variability in human height and Imagen data."
     ]
    },
    {
     "cell_type": "markdown",
     "metadata": {
      "slideshow": {
       "slide_type": "-"
      }
     },
     "source": [
      "Human height is notoriously heritable (estimated up to 90% based on twin studies).  It is a classical example of a polygenic trait. The height heritability is manifesting differently depending of the kind of tools used to investigate this issue.\n",
      "\n",
      "This quantitative trait can be investigated in the Imagen Data."
     ]
    },
    {
     "cell_type": "heading",
     "level": 2,
     "metadata": {},
     "source": [
      "Getting the data"
     ]
    },
    {
     "cell_type": "markdown",
     "metadata": {},
     "source": [
      "We use here the data from Image for the height dependant variable and the covariates. We get the dosage value of 173 (out of the 180 propose in [Longo Allen](http://www.pubmedcentral.nih.gov/articlerender.fcgi?artid=2955183&tool=pmcentrez&rendertype=abstract) paper that released 180 SNPs from a meta analysis of ~130k subjects)."
     ]
    },
    {
     "cell_type": "code",
     "collapsed": false,
     "input": [
      "import sys, os\n",
      "# get scrpipt path\n",
      "scriptpath = os.environ['HOME']\n",
      "scriptpath += '/gits/scripts/2015_imagen_height_study/'\n",
      "sys.path.append(os.path.abspath(scriptpath))\n",
      "#\n",
      "from  study_central_ancil import init_data, var_explained_pgs, univariate, multivariate\n",
      "\n",
      "# Set pathes\n",
      "SCRIPTDATA = '/neurospin/brainomics/imagen_central/reproducing/height/'\n",
      "\n",
      "# read data\n",
      "covar, height, hippo, studyPgS, snps = init_data(SCRIPTDATA)\n",
      "\n"
     ],
     "language": "python",
     "metadata": {},
     "outputs": [
      {
       "output_type": "stream",
       "stream": "stdout",
       "text": [
        ".. Read snp data ................................................\n",
        "Sizes:  (173, 2)\n",
        "Columns:  ['snps', 'Maf']\n",
        ".. Compare frequency from Zhang and Imagen ........................\n",
        "            Freq       Maf      Diff\n",
        "rs11205277  0.42  0.442475  0.022475\n",
        "rs10863936  0.47  0.476827  0.006827\n",
        "rs4601530   0.26  0.254907  0.005093\n",
        "rs6699417   0.39  0.410033  0.020033\n",
        "rs1738475   0.41  0.390403  0.019597\n",
        " Statistics\n",
        "Diff max:  0.393478735005\n",
        "Diff min:  3.27153762268e-05\n",
        "Diff mean:  0.0159850227873\n",
        " Quantile 75% and 95%\n",
        "0.75    0.015802\n",
        "0.95    0.038332\n",
        "dtype: float64\n",
        " snps with difference in MAF in the 95% quantile\n",
        "          A1 A2  Freq   Beta       snps       Maf      Diff\n",
        "rs2284746  G  C  0.48 -0.040  rs2284746  0.521810  0.041810\n",
        "rs6470764  C  T  0.20 -0.050  rs6470764  0.478462  0.278462\n",
        "rs1257763  G  A  0.04  0.069  rs1257763  0.433479  0.393479\n",
        "rs8181166  C  G  0.47 -0.026  rs8181166  0.508724  0.038724\n",
        "rs1814175  C  T  0.34  0.022  rs1814175  0.415758  0.075758\n",
        "rs5742915  C  T  0.54 -0.031  rs5742915  0.456379  0.083621\n",
        "rs7178424  C  T  0.47 -0.021  rs7178424  0.430207  0.039793\n",
        "rs26868    A  T  0.54 -0.034    rs26868  0.460742  0.079258\n",
        "rs2665838  C  G  0.27  0.042  rs2665838  0.231189  0.038811\n",
        " Read covar data ................................................"
       ]
      },
      {
       "output_type": "stream",
       "stream": "stdout",
       "text": [
        "\n",
        "                       FID           IID         Age  ScanningCentre  Sex\n",
        "IID                                                                      \n",
        "000000001274  000000001274  000000001274  5487.00000               2    1\n",
        "000000022453  000000022453  000000022453  5342.72808               8    0\n",
        "000000075717  000000075717  000000075717  5395.00000               2    0\n",
        "000000106871  000000106871  000000106871  5720.00000               8    1\n",
        "000000112288  000000112288  000000112288  5262.00000               7    0\n",
        " Read height data ................................................\n",
        "                       FID           IID  height\n",
        "IID                                             \n",
        "000000001274  000000001274  000000001274     154\n",
        "000000022453  000000022453  000000022453     172\n",
        "000000075717  000000075717  000000075717     171\n",
        "000000106871  000000106871  000000106871     161\n",
        "000000112288  000000112288  000000112288     176\n",
        ".. Read hippocampus data ..........................................\n",
        "                       FID           IID       Mhippo        Lput        Lpal  \\\n",
        "IID                                                                             \n",
        "000000001274  000000001274  000000001274  3431.261595  5074.66211  1697.73889   \n",
        "000000022453  000000022453  000000022453  3888.537600  5382.10449  2021.25000   \n",
        "000000075717  000000075717  000000075717  3949.490235  5904.35547  2094.02515   \n",
        "000000106871  000000106871  000000106871  3996.442870  5221.56250  1693.58643   \n",
        "000000112288  000000112288  000000112288  4372.795410  5900.57617  2069.93896   \n",
        "\n",
        "                    Rput        Rpal  \n",
        "IID                                   \n",
        "000000001274  4650.55908  1680.50977  \n",
        "000000022453  5491.32568  2023.88184  \n",
        "000000075717  5941.46484  2125.83301  \n",
        "000000106871  5033.38623  1713.32520  \n",
        "000000112288  5905.83984  2050.20020  \n"
       ]
      }
     ],
     "prompt_number": 3
    },
    {
     "cell_type": "markdown",
     "metadata": {},
     "source": [
      "Notice the small difference between the Freq(maf in the 130k european cohort from Long Allen) and maf (maf in the Imputed imagen cohort). The value are very similar. This is another check of the coherent content of the Imagen data as well and a gross check of the coherency of the imputation process."
     ]
    },
    {
     "cell_type": "heading",
     "level": 2,
     "metadata": {},
     "source": [
      "Heritability estimated from population of unrelated subjects"
     ]
    },
    {
     "cell_type": "markdown",
     "metadata": {},
     "source": [
      "In 2010, Visscher introduced a tools to estimate heritability from genetical population study with unrelated subjects : the GCTA method. This method is based on classical approach in agronomics and several variants exist (). There are two main views to estimate heritability: 1) Mendel's approaches that look for one or a few interacting variants that explain some variance in a quantitaive trait and 2) Fisher's approaches that hypothesize that the combined (tiny) effets of hundreds of thousands of SNPs can explain some variability in a quantitative trait.\n",
      "\n",
      "The method relies on the estimation of a  mixed-effects linear model that includes the kinship matrix. This kinship matrix is computed from the genotyping data available in a study.\n",
      "\n",
      "A GCTA study was performed by [R Toro 2014](http://www.ncbi.nlm.nih.gov/pubmed/25224261)  and we repeated the study. The script to run are ~/gits/scripts/2015_imagen_height_study/heritability_gcta.py\n",
      "\n",
      "| | Molecular Psychiatry 2014 |          Reproduce 2015          |\n",
      "|-|------|------|\n",
      "| Qt extraction | heights collected and various quantitative features extracted with FreeSurfer for the Enigma 2 project | The same features are available from the Imagen Database|\n",
      "| Qt used | height | height|\n",
      "| Covariates | Age, Sex, ScanningCentre and 10 first eigenvectors of the variacne covariance matrix from IBS is considered as a phenotype. | same. Only 5 eigen vectors availbale (may be obtained from the MDS (not IBS)) |\n",
      "| Genotyping data| unknown reference file. It may include multiple ethnicity | File qc_subjects_qc_gentics : 1,835 subjects and 477,245 SNPs |\n",
      "||||\n",
      "|# Subjects |   This is the number of subjects that are in common after QC in images, traits, genotyping and exclusion of closely related individuals  : 1765 subjects and 269.308 informative SNPs   | 1701 subjects and 215.378 SNPs |\n",
      "\n",
      "\n",
      "\n",
      "<img src=\"../files/MolPsy.png\" width=\"512px\" height=\"512px\"  />\n",
      "<img src=\"../files/herit.png\" width=\"412px\" height=\"412px\" />"
     ]
    },
    {
     "cell_type": "heading",
     "level": 2,
     "metadata": {},
     "source": [
      "Polygenic risk score"
     ]
    },
    {
     "cell_type": "markdown",
     "metadata": {},
     "source": [
      "The polygenic risk score approach consists in getting\n",
      "\n",
      "According to [Zhang 2014](http://journals.plos.org/plosone/article?id=10.1371/journal.pone.0029475), one should recover a variance in [8, 11] percent interval. In the latter paper, they recover 8% percent part of variance in an endemic population of 1300 subjects."
     ]
    },
    {
     "cell_type": "code",
     "collapsed": false,
     "input": [
      "# Polygenic score effect size\n",
      "subjects, lm = var_explained_pgs(covar, studyPgS)"
     ],
     "language": "python",
     "metadata": {},
     "outputs": [
      {
       "output_type": "stream",
       "stream": "stdout",
       "text": [
        "..... Height related PgrS score explains ~ 6% of the height variability\n",
        "      based on:  1596  subjects\n",
        "      covariate out is sex , age, scanning center\n",
        "lm.score(X, Y) 0.0598901448841\n"
       ]
      }
     ],
     "prompt_number": 4
    },
    {
     "cell_type": "heading",
     "level": 2,
     "metadata": {},
     "source": [
      "Dosage Association model (aka the model used in GWAS, aka the MULM model)"
     ]
    },
    {
     "cell_type": "markdown",
     "metadata": {},
     "source": [
      "This is the regular model used in GWAS. It consists in linear model where the Qt (quatitative trait) is regresssed agains the SNP count of minor allele (this value 0, 1, 2 for a give subject). Covariate are regressed out one for all (especially if one do not consider using permutation for multiple test correction)."
     ]
    },
    {
     "cell_type": "code",
     "collapsed": false,
     "input": [
      "# now perform univariate fit\n",
      "# covariates are Age, ScanningCentre, Sex read from studyPgS\n",
      "# dependant variable is height\n",
      "print studyPgS.columns\n",
      "\n",
      "# We need to get actual data from snps structure, and first the subject list obtained previously\n",
      "# get the ordered subject list\n",
      "mask = [snps.subject_ids.tolist().index(i) for i in subjects]\n",
      "\n",
      "# About 1.5 % of part of variance for height is explained\n",
      "X, Y = univariate(mask, snps, studyPgS )"
     ],
     "language": "python",
     "metadata": {},
     "outputs": [
      {
       "output_type": "stream",
       "stream": "stdout",
       "text": [
        "Index([u'FID', u'IID', u'Age', u'ScanningCentre', u'Sex', u'height', u'PgS',\n",
        "       u'Mhippo'],\n",
        "      dtype='object')\n",
        "\n"
       ]
      },
      {
       "output_type": "stream",
       "stream": "stdout",
       "text": [
        "\n",
        "..... Univariate results\n",
        "      numbers of significant p values *un*corrected 23 over  173\n",
        "      numbers of significant corrected p values corrected"
       ]
      },
      {
       "output_type": "stream",
       "stream": "stdout",
       "text": [
        " 2 over  173\n",
        "      ['rs2778031' 'rs11259936']  pvalcor =  [ 0.04886258  0.04886258]  correlation =  [ 0.0862132  -0.08950396]\n",
        "\n",
        "..... Score explained by the 2 significant SNPS is ~ 1.5 percent of the height var\n",
        "      based on:  1596  subjects\n",
        "      covariate out is sex , age, scanning center\n",
        "lm.score(X, Y) 0.0149507800384\n"
       ]
      }
     ],
     "prompt_number": 6
    },
    {
     "cell_type": "heading",
     "level": 2,
     "metadata": {},
     "source": [
      "Multivariate approach"
     ]
    },
    {
     "cell_type": "markdown",
     "metadata": {},
     "source": [
      "We use here the regression SVR from scikit-learn (Parietal team). We retained a SVR with an RBF kernel with a 100-best anova filtering step and got the performance results from a 10CV scheme."
     ]
    },
    {
     "cell_type": "code",
     "collapsed": false,
     "input": [
      "# 1.8 % part of the variance of height is explained using this model\n",
      "multivariate(X, Y)"
     ],
     "language": "python",
     "metadata": {},
     "outputs": [
      {
       "output_type": "stream",
       "stream": "stdout",
       "text": [
        "\n",
        "..... Score explained k=100 SNPS svr is ~ 1.8% of the height var\n",
        "      SVR avec k best : eval CV 10 folds\n",
        "      based on:  1596  subjects\n",
        "      covariate out is sex , age, scanning center\n",
        "[ 0.01107328  0.02264422  0.04211276  0.01938325 -0.04411415  0.01018128\n",
        "  0.02780819  0.01474115  0.03948739  0.03565298]\n",
        "\n",
        "      explained variance(mean):  0.0178970343135\n"
       ]
      }
     ],
     "prompt_number": 7
    },
    {
     "cell_type": "heading",
     "level": 2,
     "metadata": {},
     "source": [
      "And what about the hippocampus volume: the PgS model or the Allelic dosage model"
     ]
    },
    {
     "cell_type": "heading",
     "level": 3,
     "metadata": {},
     "source": [
      "The PgrS model"
     ]
    },
    {
     "cell_type": "markdown",
     "metadata": {},
     "source": [
      "The height related polygenic risk score - based on 173 pairs (rsID, beta-value) is built to study to whihc respect it could explain the mean hippocampus volume.\n",
      "\n",
      "See how weak the $R^2$ is."
     ]
    },
    {
     "cell_type": "code",
     "collapsed": false,
     "input": [
      "# Study of Mhippo ################\n",
      "# - Polygenic score effect size\n",
      "subjects, lm = var_explained_pgs(covar, studyPgS, col='Mhippo')"
     ],
     "language": "python",
     "metadata": {},
     "outputs": [
      {
       "output_type": "stream",
       "stream": "stdout",
       "text": [
        "..... Part of variability explained by Height related polygenic score for Mhippo\n",
        "      based on:  1596  subjects\n",
        "      covariate out is sex , age, scanning center\n",
        "lm.score(X, Y) 9.2695072953e-05\n"
       ]
      }
     ],
     "prompt_number": 8
    },
    {
     "cell_type": "heading",
     "level": 3,
     "metadata": {},
     "source": [
      "The Allelic model"
     ]
    },
    {
     "cell_type": "markdown",
     "metadata": {},
     "source": [
      "The 173 snps are considered and used each in its turn in an allelic dosage. No one passes the fdr corrected threshold."
     ]
    },
    {
     "cell_type": "code",
     "collapsed": false,
     "input": [
      "# - now perform univariate fit\n",
      "# get the ordered subject list\n",
      "mask = [snps.subject_ids.tolist().index(i) for i in subjects]\n",
      "X, Y = univariate(mask, snps, studyPgS, col='Mhippo')"
     ],
     "language": "python",
     "metadata": {},
     "outputs": [
      {
       "output_type": "stream",
       "stream": "stdout",
       "text": [
        "\n",
        "\n",
        "..... Univariate results\n",
        "      numbers of significant p values *un*corrected 6 over  173\n",
        "      numbers of significant corrected p values corrected 0 over  173\n",
        "      []  pvalcor =  []  correlation =  []\n",
        "\n",
        "..... Nothing in Mhippo variability explained by this approach \n"
       ]
      }
     ],
     "prompt_number": 10
    },
    {
     "cell_type": "heading",
     "level": 3,
     "metadata": {},
     "source": [
      "Multivariate approach"
     ]
    },
    {
     "cell_type": "raw",
     "metadata": {},
     "source": [
      "The 173 snps are considered in a multivariate model : SVR with RBF andwith anova 100-best"
     ]
    },
    {
     "cell_type": "code",
     "collapsed": false,
     "input": [
      "# - now perform multivariate analysis Y contain the Mhippo data!\n",
      "multivariate(X, Y, col='Mhippo')"
     ],
     "language": "python",
     "metadata": {},
     "outputs": [
      {
       "output_type": "stream",
       "stream": "stdout",
       "text": [
        "\n",
        "..... Score explained k=100 SNPS svr for the Mhippo variability\n",
        "      SVR avec k best : eval CV 10 folds\n",
        "      based on:  1596  subjects\n",
        "      covariate out is sex , age, scanning center\n",
        "[-0.00137743 -0.00051689 -0.00104059 -0.00033736 -0.00415881 -0.0011713\n",
        " -0.00919595  0.0003284  -0.0044278  -0.00746057]\n",
        "\n",
        "      explained variance(mean):  -0.00293583073658\n"
       ]
      }
     ],
     "prompt_number": 11
    },
    {
     "cell_type": "code",
     "collapsed": false,
     "input": [],
     "language": "python",
     "metadata": {},
     "outputs": []
    }
   ],
   "metadata": {}
  }
 ]
}